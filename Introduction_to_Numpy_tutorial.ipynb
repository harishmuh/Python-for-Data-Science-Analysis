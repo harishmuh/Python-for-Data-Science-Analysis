{
  "nbformat": 4,
  "nbformat_minor": 0,
  "metadata": {
    "colab": {
      "provenance": [],
      "authorship_tag": "ABX9TyMrED40jNi5WCkCbTeBeTV2",
      "include_colab_link": true
    },
    "kernelspec": {
      "name": "python3",
      "display_name": "Python 3"
    },
    "language_info": {
      "name": "python"
    }
  },
  "cells": [
    {
      "cell_type": "markdown",
      "metadata": {
        "id": "view-in-github",
        "colab_type": "text"
      },
      "source": [
        "<a href=\"https://colab.research.google.com/github/harishmuh/Python-for-Data-Science-Analysis/blob/main/Introduction_to_Numpy_tutorial.ipynb\" target=\"_parent\"><img src=\"https://colab.research.google.com/assets/colab-badge.svg\" alt=\"Open In Colab\"/></a>"
      ]
    },
    {
      "cell_type": "markdown",
      "source": [
        "**Introduction to Numpy**\n",
        "\n",
        "Numpy is a core library for scientific computing with Python. It provides high-performance multidimensional array objects, and tools for working with these arrays.\n",
        "\n",
        "To use Numpy, we first need to import the `numpy` package. As per convention, we import it using the alias `np`. Then, when we want to use a module or function in this library, we prefix it with `np.`"
      ],
      "metadata": {
        "id": "_o9Zq0AsOol1"
      }
    },
    {
      "cell_type": "code",
      "execution_count": 1,
      "metadata": {
        "id": "FtlB8V-MOUge"
      },
      "outputs": [],
      "source": [
        "# Installing numpy\n",
        "# !pip install numpy\n",
        "\n",
        "# Importing numpy library\n",
        "import numpy as np"
      ]
    },
    {
      "cell_type": "markdown",
      "source": [
        "## **Arrays and array construction**\n",
        "\n",
        "The numpy array is a grid of values, all of the same type, and indexed by a series of non-negative integers. The number of dimensions is the rank of the array; the shape of the array is a tuple of integers that gives the size of the array in each dimension.\n",
        "\n",
        "* We can create a `numpy` array by passing a Python list to `np.array()`.\n",
        "\n",
        "* To know the dimension and shape of an array we can call the `ndim` and `shape` attributes of an array.\n"
      ],
      "metadata": {
        "id": "qlVYUdeuPV2g"
      }
    },
    {
      "cell_type": "code",
      "source": [
        "arr_a = np.array([1, 2, 3])\n",
        "\n",
        "print('Array a:', arr_a)\n",
        "print('Data type a:', type(arr_a))\n",
        "print('Values in array a of type:', arr_a.dtype)\n",
        "print('Number of dimensions:', arr_a.ndim)\n",
        "print('Shape of array:', arr_a.shape)"
      ],
      "metadata": {
        "colab": {
          "base_uri": "https://localhost:8080/"
        },
        "id": "Js83gEcpQJMP",
        "outputId": "8d101356-4020-4233-870a-6434cfc28640"
      },
      "execution_count": 5,
      "outputs": [
        {
          "output_type": "stream",
          "name": "stdout",
          "text": [
            "Array a: [1 2 3]\n",
            "Data type a: <class 'numpy.ndarray'>\n",
            "Values in array a of type: int64\n",
            "Number of dimensions: 1\n",
            "Shape of array: (3,)\n"
          ]
        }
      ]
    },
    {
      "cell_type": "code",
      "source": [
        "arr_b = np.array([1, 2, 3, 'Hello', True])\n",
        "\n",
        "print('Array b:', arr_b)\n",
        "print('Data type b:', type(arr_b))\n",
        "print('Values in array b of type:', arr_b.dtype)\n",
        "print('Number of dimensions:', np.ndim(arr_b))\n",
        "print('Shape of array:', np.shape(arr_b))"
      ],
      "metadata": {
        "colab": {
          "base_uri": "https://localhost:8080/"
        },
        "id": "0E7UvWUGPrDy",
        "outputId": "b4792f1e-4cf6-45e8-9d69-0775d902ffa5"
      },
      "execution_count": 4,
      "outputs": [
        {
          "output_type": "stream",
          "name": "stdout",
          "text": [
            "Array b: ['1' '2' '3' 'Hello' 'True']\n",
            "Data type b: <class 'numpy.ndarray'>\n",
            "Values in array b of type: <U21\n",
            "Number of dimensions: 1\n",
            "Shape of array: (5,)\n"
          ]
        }
      ]
    },
    {
      "cell_type": "markdown",
      "source": [
        "We can create array using numpy as we can see as below:\n",
        "\n",
        "![](http://jalammar.github.io/images/numpy/create-numpy-array-1.png)"
      ],
      "metadata": {
        "id": "J2KF7ScrQUzM"
      }
    },
    {
      "cell_type": "markdown",
      "source": [
        "To create a `numpy` array with more dimensions, we can use a `nested list`, like this::\n",
        "\n",
        "![](http://jalammar.github.io/images/numpy/numpy-array-create-2d.png)\n",
        "\n",
        "![](http://jalammar.github.io/images/numpy/numpy-3d-array.png)"
      ],
      "metadata": {
        "id": "ARkvDJ1GQo4l"
      }
    },
    {
      "cell_type": "code",
      "source": [
        "# Nested list\n",
        "nested_list = [[1, 2, 3], [4, 5, 6]]\n",
        "\n",
        "arr_c = np.array(nested_list)\n",
        "\n",
        "print('Array c:', arr_c)\n",
        "print('Data type c:', type(arr_c))\n",
        "print('Values in array c of type:', arr_c.dtype)\n",
        "print('Number of dimensions:', np.ndim(arr_c))\n",
        "print('Shape of array:', np.shape(arr_c))"
      ],
      "metadata": {
        "colab": {
          "base_uri": "https://localhost:8080/"
        },
        "id": "ZqjRi4KJP2hm",
        "outputId": "41704aa3-7690-4ce5-8f50-7c301b9ae060"
      },
      "execution_count": 6,
      "outputs": [
        {
          "output_type": "stream",
          "name": "stdout",
          "text": [
            "Array c: [[1 2 3]\n",
            " [4 5 6]]\n",
            "Data type c: <class 'numpy.ndarray'>\n",
            "Values in array c of type: int64\n",
            "Number of dimensions: 2\n",
            "Shape of array: (2, 3)\n"
          ]
        }
      ]
    },
    {
      "cell_type": "code",
      "source": [
        "nested_list = [\n",
        " [[1, 2, 3], [3, 4, 5], [1, 2, 3], [3, 4, 5]],\n",
        " [[5, 6, 7], [7, 8, 9], [1, 2, 3], [3, 4, 5] ]\n",
        "]\n",
        "\n",
        "arr_d = np.array(nested_list)\n",
        "\n",
        "print(arr_d)\n",
        "print('Data type d:', type(arr_d))\n",
        "print('Values in array d of type:', arr_d.dtype)\n",
        "print('Number of dimensions:', np.ndim(arr_d))\n",
        "print('Shape of array:', np.shape(arr_d))"
      ],
      "metadata": {
        "colab": {
          "base_uri": "https://localhost:8080/"
        },
        "id": "3NMpfeAARa6t",
        "outputId": "03082ee3-d08d-45fe-8594-dece817f948e"
      },
      "execution_count": 7,
      "outputs": [
        {
          "output_type": "stream",
          "name": "stdout",
          "text": [
            "[[[1 2 3]\n",
            "  [3 4 5]\n",
            "  [1 2 3]\n",
            "  [3 4 5]]\n",
            "\n",
            " [[5 6 7]\n",
            "  [7 8 9]\n",
            "  [1 2 3]\n",
            "  [3 4 5]]]\n",
            "Data type d: <class 'numpy.ndarray'>\n",
            "Values in array d of type: int64\n",
            "Number of dimensions: 3\n",
            "Shape of array: (2, 4, 3)\n"
          ]
        }
      ]
    },
    {
      "cell_type": "markdown",
      "source": [
        "Many times we want numpy to initialize the array values for us. numpy provides methods like `ones()`, `zeros()`, and `random.random()` for this case. We just provide the number of elements we want to generate:\n",
        "\n",
        "![](http://jalammar.github.io/images/numpy/create-numpy-array-ones-zeros-random.png)"
      ],
      "metadata": {
        "id": "qFVid1yXRsUW"
      }
    },
    {
      "cell_type": "markdown",
      "source": [
        "We can also use this method to generate multidimensional arrays, as long as we pass an argument in the form of a tuple that describes the dimensions of the matrix we want to create:\n",
        "\n",
        "![](http://jalammar.github.io/images/numpy/numpy-matrix-ones-zeros-random.png)\n",
        "\n",
        "![](http://jalammar.github.io/images/numpy/numpy-3d-array-creation.png)"
      ],
      "metadata": {
        "id": "4wyzIP15Rwes"
      }
    },
    {
      "cell_type": "markdown",
      "source": [
        "Here are some commonly used methods:\n",
        "\n",
        "| Method | Returns |\n",
        "| --- | --- |\n",
        "| `np.zeros()` | Creates an array of 0's |\n",
        "| `np.ones()` | Creates an array of 1's |\n",
        "| `np.full()` | Creates an array of constants |\n",
        "| `np.eye()` | Creates the identity matrix |\n",
        "| `np.random.random()` | Creates an array of random numbers |"
      ],
      "metadata": {
        "id": "SPpEMrykR8cy"
      }
    },
    {
      "cell_type": "markdown",
      "source": [
        "**np.zeros()**"
      ],
      "metadata": {
        "id": "nzzN7PuTSswP"
      }
    },
    {
      "cell_type": "code",
      "source": [
        "arr_a = np.zeros(5)\n",
        "print(arr_a)\n",
        "print('Array shape:', arr_a.shape)"
      ],
      "metadata": {
        "colab": {
          "base_uri": "https://localhost:8080/"
        },
        "id": "-7Svr_v4SQ5w",
        "outputId": "00f61be1-7d05-4801-8c7b-a55d95329db4"
      },
      "execution_count": 8,
      "outputs": [
        {
          "output_type": "stream",
          "name": "stdout",
          "text": [
            "[0. 0. 0. 0. 0.]\n",
            "Array shape: (5,)\n"
          ]
        }
      ]
    },
    {
      "cell_type": "code",
      "source": [
        "arr_b = np.zeros((3, 2))\n",
        "print(arr_b)\n",
        "print('Array shape:', arr_b.shape)"
      ],
      "metadata": {
        "colab": {
          "base_uri": "https://localhost:8080/"
        },
        "id": "25FRsuxZSgDF",
        "outputId": "bd2a4acd-2668-46ff-f05b-040def3218d5"
      },
      "execution_count": 9,
      "outputs": [
        {
          "output_type": "stream",
          "name": "stdout",
          "text": [
            "[[0. 0.]\n",
            " [0. 0.]\n",
            " [0. 0.]]\n",
            "Array shape: (3, 2)\n"
          ]
        }
      ]
    },
    {
      "cell_type": "markdown",
      "source": [
        "**np.ones()**"
      ],
      "metadata": {
        "id": "pblnNNsmS1Mu"
      }
    },
    {
      "cell_type": "code",
      "source": [
        "arr_c = np.ones(8)\n",
        "print(arr_c)\n",
        "print('Array shape:', arr_c.shape)"
      ],
      "metadata": {
        "colab": {
          "base_uri": "https://localhost:8080/"
        },
        "id": "XrYgLAQmSofL",
        "outputId": "653de395-034d-49eb-ad79-21007d0275bc"
      },
      "execution_count": 10,
      "outputs": [
        {
          "output_type": "stream",
          "name": "stdout",
          "text": [
            "[1. 1. 1. 1. 1. 1. 1. 1.]\n",
            "Array shape: (8,)\n"
          ]
        }
      ]
    },
    {
      "cell_type": "code",
      "source": [
        "arr_d = np.ones((4,3,2))\n",
        "print(arr_d)\n",
        "print('Array shape:', arr_d.shape)"
      ],
      "metadata": {
        "colab": {
          "base_uri": "https://localhost:8080/"
        },
        "id": "oraUYIq_TCbf",
        "outputId": "c2a90629-d494-4f7f-e4f5-0228440174c1"
      },
      "execution_count": 11,
      "outputs": [
        {
          "output_type": "stream",
          "name": "stdout",
          "text": [
            "[[[1. 1.]\n",
            "  [1. 1.]\n",
            "  [1. 1.]]\n",
            "\n",
            " [[1. 1.]\n",
            "  [1. 1.]\n",
            "  [1. 1.]]\n",
            "\n",
            " [[1. 1.]\n",
            "  [1. 1.]\n",
            "  [1. 1.]]\n",
            "\n",
            " [[1. 1.]\n",
            "  [1. 1.]\n",
            "  [1. 1.]]]\n",
            "Array shape: (4, 3, 2)\n"
          ]
        }
      ]
    },
    {
      "cell_type": "markdown",
      "source": [
        "**np.full()**"
      ],
      "metadata": {
        "id": "niU7505ZTVBS"
      }
    },
    {
      "cell_type": "code",
      "source": [
        "arr_e = np.full((3,2), 7) # np.full(shape, constant)\n",
        "print(arr_e)"
      ],
      "metadata": {
        "colab": {
          "base_uri": "https://localhost:8080/"
        },
        "id": "yTOmpRPpTaLL",
        "outputId": "a74f8e9f-34b3-4d50-8b7e-1baf6b6a461d"
      },
      "execution_count": 12,
      "outputs": [
        {
          "output_type": "stream",
          "name": "stdout",
          "text": [
            "[[7 7]\n",
            " [7 7]\n",
            " [7 7]]\n"
          ]
        }
      ]
    },
    {
      "cell_type": "markdown",
      "source": [
        "**np.eye()**"
      ],
      "metadata": {
        "id": "pZn_9RbeT7oO"
      }
    },
    {
      "cell_type": "code",
      "source": [
        "arr_f = np.eye(4,4) #np.eye(row, column)\n",
        "print(arr_f)"
      ],
      "metadata": {
        "colab": {
          "base_uri": "https://localhost:8080/"
        },
        "id": "q_RHApVTTwnL",
        "outputId": "656de19c-18eb-43ba-de9e-1d4a86ea48d5"
      },
      "execution_count": 13,
      "outputs": [
        {
          "output_type": "stream",
          "name": "stdout",
          "text": [
            "[[1. 0. 0. 0.]\n",
            " [0. 1. 0. 0.]\n",
            " [0. 0. 1. 0.]\n",
            " [0. 0. 0. 1.]]\n"
          ]
        }
      ]
    },
    {
      "cell_type": "markdown",
      "source": [
        "**np.random()**"
      ],
      "metadata": {
        "id": "g6KXvqAdUG3B"
      }
    },
    {
      "cell_type": "code",
      "source": [
        "arr_g = np.random.random(10) # create an array of random numbers\n",
        "print(arr_g)"
      ],
      "metadata": {
        "colab": {
          "base_uri": "https://localhost:8080/"
        },
        "id": "D2rzxKckUGJI",
        "outputId": "a5caf675-1675-4a1d-875b-b78210ed0e20"
      },
      "execution_count": 14,
      "outputs": [
        {
          "output_type": "stream",
          "name": "stdout",
          "text": [
            "[0.67658219 0.60302617 0.37397743 0.10538726 0.14261388 0.16747963\n",
            " 0.16403055 0.54056534 0.07613752 0.0777725 ]\n"
          ]
        }
      ]
    },
    {
      "cell_type": "markdown",
      "source": [
        "Numpy also has two useful functions for creating number sequences: `arange` and `linspace`.\n",
        "\n",
        "The `arange` function accepts three arguments, which specify the start value, the (exclusive) end value, and the step size. (The default step size, if not explicitly specified, is 1; the default start value, if not explicitly specified, is 0.)\n",
        "\n",
        "The `linspace` function is similar, but we can specify the number of values instead of the step size, and this will create a sequence of equally spaced values."
      ],
      "metadata": {
        "id": "urTyNEpUUaYE"
      }
    },
    {
      "cell_type": "markdown",
      "source": [
        "**np.arange()**"
      ],
      "metadata": {
        "id": "wtIn6ionVWxv"
      }
    },
    {
      "cell_type": "code",
      "source": [
        "arr_a = np.arange(5) # start=0, stop=5 (exclusive), step=1\n",
        "print(arr_a)\n",
        "print('Data type:', type(arr_a))"
      ],
      "metadata": {
        "colab": {
          "base_uri": "https://localhost:8080/"
        },
        "id": "YRaeNR9bUfWU",
        "outputId": "954e91d4-f1a5-441f-d891-cf8aca332d5b"
      },
      "execution_count": 15,
      "outputs": [
        {
          "output_type": "stream",
          "name": "stdout",
          "text": [
            "[0 1 2 3 4]\n",
            "Data type: <class 'numpy.ndarray'>\n"
          ]
        }
      ]
    },
    {
      "cell_type": "code",
      "source": [
        "arr_b = np.arange(2,8)    # start=2, stop=8 (exclusive), step=1\n",
        "print(arr_b)\n",
        "print('Data type:', type(arr_b))"
      ],
      "metadata": {
        "colab": {
          "base_uri": "https://localhost:8080/"
        },
        "id": "q6sOvhTMUodJ",
        "outputId": "070d0eaf-cb05-4ab1-8671-72e96507b666"
      },
      "execution_count": 16,
      "outputs": [
        {
          "output_type": "stream",
          "name": "stdout",
          "text": [
            "[2 3 4 5 6 7]\n",
            "Data type: <class 'numpy.ndarray'>\n"
          ]
        }
      ]
    },
    {
      "cell_type": "code",
      "source": [
        "arr_c = np.arange(10,100,10)    # start=10, stop=100 (exclusive), step=10\n",
        "print(arr_c)\n",
        "print('Data type:', type(arr_c))"
      ],
      "metadata": {
        "colab": {
          "base_uri": "https://localhost:8080/"
        },
        "id": "nr-o5HDlVB-1",
        "outputId": "d538a550-248b-4f96-b26e-f21505bbb2fd"
      },
      "execution_count": 17,
      "outputs": [
        {
          "output_type": "stream",
          "name": "stdout",
          "text": [
            "[10 20 30 40 50 60 70 80 90]\n",
            "Data type: <class 'numpy.ndarray'>\n"
          ]
        }
      ]
    },
    {
      "cell_type": "markdown",
      "source": [
        "**np.linspace()**"
      ],
      "metadata": {
        "id": "kk_mxLITVRDo"
      }
    },
    {
      "cell_type": "code",
      "source": [
        "arr_d = np.linspace(5,50,10) # (start=5, stop=50 (inclusive), number=10)\n",
        "print(arr_d)\n",
        "\n",
        "# interval = (stop - start) / (value - 1) = (50 - 5) / (10 - 1) = 45 / 9 = 5"
      ],
      "metadata": {
        "colab": {
          "base_uri": "https://localhost:8080/"
        },
        "id": "8W3Iq-igVP8Q",
        "outputId": "7a8201f0-0ba3-4bf3-e643-9f18740e68a7"
      },
      "execution_count": 18,
      "outputs": [
        {
          "output_type": "stream",
          "name": "stdout",
          "text": [
            "[ 5. 10. 15. 20. 25. 30. 35. 40. 45. 50.]\n"
          ]
        }
      ]
    },
    {
      "cell_type": "markdown",
      "source": [
        "**np.random.random()**"
      ],
      "metadata": {
        "id": "Iw7-MxfgVyAQ"
      }
    },
    {
      "cell_type": "markdown",
      "source": [
        "Besides `random.random()`, numpy also has other methods to create random arrays including:\n",
        "\n",
        "| Methods | Returns |\n",
        "| --- | --- |\n",
        "| `np.random.rand()` | Creates an array of random numbers between 0-1 |\n",
        "| `np.random.randn()` | Creates an array of normally distributed random numbers with mean=0 and std=1 |\n",
        "| `np.random.randint()` | Creates an array of integer random numbers |"
      ],
      "metadata": {
        "id": "VIO20SUxVg8w"
      }
    },
    {
      "cell_type": "code",
      "source": [
        "np.random.seed(42) # ensure the generated random value can be reproduced again\n",
        "arr_a = np.random.rand(10) # same as random state 42 in pandas\n",
        "print(arr_a)"
      ],
      "metadata": {
        "colab": {
          "base_uri": "https://localhost:8080/"
        },
        "id": "lKW9Jgq7VijL",
        "outputId": "2208f05a-4886-4c1b-e039-42b30a67c400"
      },
      "execution_count": 19,
      "outputs": [
        {
          "output_type": "stream",
          "name": "stdout",
          "text": [
            "[0.37454012 0.95071431 0.73199394 0.59865848 0.15601864 0.15599452\n",
            " 0.05808361 0.86617615 0.60111501 0.70807258]\n"
          ]
        }
      ]
    },
    {
      "cell_type": "code",
      "source": [
        "np.random.seed(42)\n",
        "arr_b = np.random.rand(3, 2)\n",
        "print(arr_b)"
      ],
      "metadata": {
        "colab": {
          "base_uri": "https://localhost:8080/"
        },
        "id": "1XOZR3V7Vqbx",
        "outputId": "7595f7c5-873d-402a-9344-2d190f170d27"
      },
      "execution_count": 20,
      "outputs": [
        {
          "output_type": "stream",
          "name": "stdout",
          "text": [
            "[[0.37454012 0.95071431]\n",
            " [0.73199394 0.59865848]\n",
            " [0.15601864 0.15599452]]\n"
          ]
        }
      ]
    },
    {
      "cell_type": "code",
      "source": [
        "np.random.seed(42)\n",
        "arr_c = np.random.randn(2000)\n",
        "\n",
        "print('Mean:', np.mean(arr_c)) # calculate the mean\n",
        "print('Standard deviation:', np.std(arr_c)) # calculate the standard deviation"
      ],
      "metadata": {
        "colab": {
          "base_uri": "https://localhost:8080/"
        },
        "id": "0nboR9VeV9Uk",
        "outputId": "c3626187-20f6-4c0c-a5de-f7efca39996c"
      },
      "execution_count": 21,
      "outputs": [
        {
          "output_type": "stream",
          "name": "stdout",
          "text": [
            "Mean: 0.0450841465357407\n",
            "Standard deviation: 0.9882185106289078\n"
          ]
        }
      ]
    },
    {
      "cell_type": "markdown",
      "source": [
        "**Simple Visualization**"
      ],
      "metadata": {
        "id": "lqAGi1ZdWEw8"
      }
    },
    {
      "cell_type": "code",
      "source": [
        "# Installing seaborn library\n",
        "# !pip install seaborn\n",
        "\n",
        "# Importing library for visualization\n",
        "import seaborn as sns\n",
        "import matplotlib.pyplot as plt"
      ],
      "metadata": {
        "id": "hnYD8D0UWLQg"
      },
      "execution_count": 22,
      "outputs": []
    },
    {
      "cell_type": "code",
      "source": [
        "# Histogram\n",
        "sns.histplot(arr_c)\n",
        "plt.show()"
      ],
      "metadata": {
        "colab": {
          "base_uri": "https://localhost:8080/",
          "height": 430
        },
        "id": "UVOQxVCxWiet",
        "outputId": "851300bb-215b-4504-90e3-635a286d06d5"
      },
      "execution_count": 23,
      "outputs": [
        {
          "output_type": "display_data",
          "data": {
            "text/plain": [
              "<Figure size 640x480 with 1 Axes>"
            ],
            "image/png": "[encoded data removed]"
          },
          "metadata": {}
        }
      ]
    },
    {
      "cell_type": "markdown",
      "source": [
        "**np.random.randint()**"
      ],
      "metadata": {
        "id": "k4zl6G7iWuLF"
      }
    },
    {
      "cell_type": "code",
      "source": [
        "arr_d = np.random.randint(1, 10, size=20) # generate an integer between 1 and 10 (exclusive) for 20 data\n",
        "print(arr_d)"
      ],
      "metadata": {
        "colab": {
          "base_uri": "https://localhost:8080/"
        },
        "id": "f0vqtoYQWrX6",
        "outputId": "4717fb6a-b5ec-4ffa-f364-7208483823bf"
      },
      "execution_count": 24,
      "outputs": [
        {
          "output_type": "stream",
          "name": "stdout",
          "text": [
            "[6 3 8 3 2 3 6 2 8 1 7 2 6 2 2 8 2 7 3 8]\n"
          ]
        }
      ]
    },
    {
      "cell_type": "code",
      "source": [
        "arr_e = np.random.randint(5, 30, size=(5,3)) # generate integer between 5 and 30 (exclusive) for 5 rows, 3 columns\n",
        "print(arr_e)"
      ],
      "metadata": {
        "colab": {
          "base_uri": "https://localhost:8080/"
        },
        "id": "oxfrkrOpW5k3",
        "outputId": "098da1bb-e43a-4f42-d58a-997fdd947477"
      },
      "execution_count": 25,
      "outputs": [
        {
          "output_type": "stream",
          "name": "stdout",
          "text": [
            "[[27 18 28]\n",
            " [27 26 11]\n",
            " [25 11  5]\n",
            " [21 13 25]\n",
            " [17 25 23]]\n"
          ]
        }
      ]
    },
    {
      "cell_type": "markdown",
      "source": [
        "Sometimes, we may want to create an array from an existing array by “stacking” the existing array, either vertically or horizontally. We can use `vstack()` (or `row_stack`) and `hstack()` (or `column_stack`), respectively."
      ],
      "metadata": {
        "id": "k9kztlHVXCjO"
      }
    },
    {
      "cell_type": "code",
      "source": [
        "arr_a = np.array([1, 2, 3])\n",
        "arr_b = np.array([4, 5, 6])\n",
        "print(np.vstack((arr_a, arr_b)))"
      ],
      "metadata": {
        "colab": {
          "base_uri": "https://localhost:8080/"
        },
        "id": "MAEBwoB_XCAy",
        "outputId": "5f46891d-005e-467b-c2b2-9cd0b0d49c0a"
      },
      "execution_count": 26,
      "outputs": [
        {
          "output_type": "stream",
          "name": "stdout",
          "text": [
            "[[1 2 3]\n",
            " [4 5 6]]\n"
          ]
        }
      ]
    },
    {
      "cell_type": "code",
      "source": [
        "arr_c = np.array([[1], [2], [3]])\n",
        "arr_d = np.vstack((4, 5, 6))\n",
        "print(np.hstack((arr_c, arr_d)))"
      ],
      "metadata": {
        "colab": {
          "base_uri": "https://localhost:8080/"
        },
        "id": "KG75d45sXJqX",
        "outputId": "537d9bfe-9882-441f-fc77-4d6a65239051"
      },
      "execution_count": 27,
      "outputs": [
        {
          "output_type": "stream",
          "name": "stdout",
          "text": [
            "[[1 4]\n",
            " [2 5]\n",
            " [3 6]]\n"
          ]
        }
      ]
    },
    {
      "cell_type": "markdown",
      "source": [
        "## **2. Datatypes**"
      ],
      "metadata": {
        "id": "rhqEIsbMXNIM"
      }
    },
    {
      "cell_type": "markdown",
      "source": [
        "Each numpy array is a grid of elements of the same type. Numpy provides a large set of numeric data types that you can use to create arrays. Numpy tries to guess the data type when you create an array, but functions that create arrays usually also include optional arguments to explicitly specify the data type. Here is an example:"
      ],
      "metadata": {
        "id": "1KNp_2lyXUHh"
      }
    },
    {
      "cell_type": "code",
      "source": [
        "arr_x = np.array([1, 2]) # numpy selected data type\n",
        "arr_y = np.array([1.0, 2.0]) # numpy selected data type\n",
        "arr_z = np.array(['1', '2']) # numpy selected data type\n",
        "arr_a = np. array([1, 2], dtype=np.int64) # enter a specific data type explicitly\n",
        "print(arr_x.dtype, arr_y.dtype, arr_z.dtype, arr_a.dtype)"
      ],
      "metadata": {
        "colab": {
          "base_uri": "https://localhost:8080/"
        },
        "id": "FHv4uqFFXPoi",
        "outputId": "302d0eab-0781-412c-b4d2-864fee38d2be"
      },
      "execution_count": 28,
      "outputs": [
        {
          "output_type": "stream",
          "name": "stdout",
          "text": [
            "int64 float64 <U1 int64\n"
          ]
        }
      ]
    },
    {
      "cell_type": "markdown",
      "source": [
        "\n",
        "You can read all about numpy data types in [documentation](http://docs.scipy.org/doc/numpy/reference/arrays.dtypes.html)."
      ],
      "metadata": {
        "id": "7pobGuhOXgHz"
      }
    },
    {
      "cell_type": "markdown",
      "source": [
        "## **3. Array indexing**"
      ],
      "metadata": {
        "id": "drGM5QA0XheW"
      }
    },
    {
      "cell_type": "markdown",
      "source": [
        "Numpy offers several ways to index into arrays. We can index and slice a numpy array the same way we can slice a Python list:\n",
        "\n",
        "![](http://jalammar.github.io/images/numpy/numpy-array-slice.png)\n",
        "\n",
        "And you can index and slice numpy arrays in multiple dimensions. If slicing an array with more than one dimension, you must specify a slice for each dimension:\n",
        "\n",
        "![](http://jalammar.github.io/images/numpy/numpy-matrix-indexing.png)"
      ],
      "metadata": {
        "id": "SyfDSK47Xk8W"
      }
    },
    {
      "cell_type": "code",
      "source": [
        "arr_a = np.array([[1, 2, 3, 4], [5, 6, 7, 8], [9, 10, 11, 12]])\n",
        "print(arr_a)"
      ],
      "metadata": {
        "colab": {
          "base_uri": "https://localhost:8080/"
        },
        "id": "glXTOmIpXq7k",
        "outputId": "77adf978-dff0-48b0-a307-10df84d9c01b"
      },
      "execution_count": 29,
      "outputs": [
        {
          "output_type": "stream",
          "name": "stdout",
          "text": [
            "[[ 1  2  3  4]\n",
            " [ 5  6  7  8]\n",
            " [ 9 10 11 12]]\n"
          ]
        }
      ]
    },
    {
      "cell_type": "code",
      "source": [
        "print(arr_a[0]) # retrieve the 0th index row"
      ],
      "metadata": {
        "colab": {
          "base_uri": "https://localhost:8080/"
        },
        "id": "b83LBBQDXzO6",
        "outputId": "2f1c8fb4-3cb4-475a-e77d-73058d0f1588"
      },
      "execution_count": 31,
      "outputs": [
        {
          "output_type": "stream",
          "name": "stdout",
          "text": [
            "[1 2 3 4]\n"
          ]
        }
      ]
    },
    {
      "cell_type": "code",
      "source": [
        "print(arr_a[1]) # retrieve the 1st index row"
      ],
      "metadata": {
        "colab": {
          "base_uri": "https://localhost:8080/"
        },
        "id": "er1d17SbYC4A",
        "outputId": "cadb8143-b408-45ca-d828-082e299df113"
      },
      "execution_count": 32,
      "outputs": [
        {
          "output_type": "stream",
          "name": "stdout",
          "text": [
            "[5 6 7 8]\n"
          ]
        }
      ]
    },
    {
      "cell_type": "code",
      "source": [
        "print(arr_a[1, 2]) # retrieve the 1st index row and 2nd index column"
      ],
      "metadata": {
        "colab": {
          "base_uri": "https://localhost:8080/"
        },
        "id": "-w4bn0YXYI6l",
        "outputId": "00e6ad84-b7dc-47e4-d536-4a798f18ff77"
      },
      "execution_count": 33,
      "outputs": [
        {
          "output_type": "stream",
          "name": "stdout",
          "text": [
            "7\n"
          ]
        }
      ]
    },
    {
      "cell_type": "code",
      "source": [
        "arr_a"
      ],
      "metadata": {
        "colab": {
          "base_uri": "https://localhost:8080/"
        },
        "id": "iAPSiBxtYOqW",
        "outputId": "13831ff1-0ea0-418a-e167-5b00c3133fd5"
      },
      "execution_count": 34,
      "outputs": [
        {
          "output_type": "execute_result",
          "data": {
            "text/plain": [
              "array([[ 1,  2,  3,  4],\n",
              "       [ 5,  6,  7,  8],\n",
              "       [ 9, 10, 11, 12]])"
            ]
          },
          "metadata": {},
          "execution_count": 34
        }
      ]
    },
    {
      "cell_type": "code",
      "source": [
        "print(arr_a[:, 2]) # retrieve the entire row and column of the 2nd index (arr_a[row, column])"
      ],
      "metadata": {
        "colab": {
          "base_uri": "https://localhost:8080/"
        },
        "id": "-PGP43SbYSwI",
        "outputId": "3ea88397-561d-4cd5-e5ec-8d395fe9ab9e"
      },
      "execution_count": 35,
      "outputs": [
        {
          "output_type": "stream",
          "name": "stdout",
          "text": [
            "[ 3  7 11]\n"
          ]
        }
      ]
    },
    {
      "cell_type": "code",
      "source": [
        "print(arr_a[1:, 2:]) # retrieve 1st index row to end and 2nd index column to end"
      ],
      "metadata": {
        "colab": {
          "base_uri": "https://localhost:8080/"
        },
        "id": "jPX9CIYUYYCd",
        "outputId": "5c8d679a-0a2f-4830-e49d-26074fba9554"
      },
      "execution_count": 36,
      "outputs": [
        {
          "output_type": "stream",
          "name": "stdout",
          "text": [
            "[[ 7  8]\n",
            " [11 12]]\n"
          ]
        }
      ]
    },
    {
      "cell_type": "code",
      "source": [
        "print(arr_a[1:,1:3]) # retrieve 1st to last index row and 1st and 2nd index columns"
      ],
      "metadata": {
        "colab": {
          "base_uri": "https://localhost:8080/"
        },
        "id": "Usw4dgbMYb1K",
        "outputId": "c76e20e9-9102-48a5-aef9-6f8903ee715f"
      },
      "execution_count": 37,
      "outputs": [
        {
          "output_type": "stream",
          "name": "stdout",
          "text": [
            "[[ 6  7]\n",
            " [10 11]]\n"
          ]
        }
      ]
    },
    {
      "cell_type": "code",
      "source": [
        "arr_a"
      ],
      "metadata": {
        "colab": {
          "base_uri": "https://localhost:8080/"
        },
        "id": "PIsUKRNlYhCY",
        "outputId": "41e7c9f7-8f5e-47d2-9258-1abfac2ade6c"
      },
      "execution_count": 38,
      "outputs": [
        {
          "output_type": "execute_result",
          "data": {
            "text/plain": [
              "array([[ 1,  2,  3,  4],\n",
              "       [ 5,  6,  7,  8],\n",
              "       [ 9, 10, 11, 12]])"
            ]
          },
          "metadata": {},
          "execution_count": 38
        }
      ]
    },
    {
      "cell_type": "code",
      "source": [
        "arr_b = arr_a[0:3:2, 1:4:2] # retrieve the 0th and 2nd index rows and the 1st and 3rd index columns\n",
        "print(arr_b)"
      ],
      "metadata": {
        "colab": {
          "base_uri": "https://localhost:8080/"
        },
        "id": "U8HGFG-GYmVi",
        "outputId": "b0e8baa6-112c-4d89-96c0-3c46118ef28d"
      },
      "execution_count": 39,
      "outputs": [
        {
          "output_type": "stream",
          "name": "stdout",
          "text": [
            "[[ 2  4]\n",
            " [10 12]]\n"
          ]
        }
      ]
    },
    {
      "cell_type": "markdown",
      "source": [
        "The slice of an array is a view of the same data, so modifying it will change the original array."
      ],
      "metadata": {
        "id": "80PFGiNkYq7s"
      }
    },
    {
      "cell_type": "code",
      "source": [
        "arr_a = [1, 2, 3, 4, 5, 6, 7]\n",
        "arr_b = arr_a\n",
        "print(arr_a)"
      ],
      "metadata": {
        "colab": {
          "base_uri": "https://localhost:8080/"
        },
        "id": "UtCfdoHTYwOS",
        "outputId": "b60813ae-81f2-42a5-ecde-2b1e73387893"
      },
      "execution_count": 40,
      "outputs": [
        {
          "output_type": "stream",
          "name": "stdout",
          "text": [
            "[1, 2, 3, 4, 5, 6, 7]\n"
          ]
        }
      ]
    },
    {
      "cell_type": "code",
      "source": [
        "arr_b[4:]=[100, 100, 100]\n",
        "print(arr_a) # the value of a changes. use .copy() when copying the array to avoid changing da"
      ],
      "metadata": {
        "colab": {
          "base_uri": "https://localhost:8080/"
        },
        "id": "QPrVVtuUY01x",
        "outputId": "1ec382fc-4974-4bf1-8674-fdee6d7a64dd"
      },
      "execution_count": 41,
      "outputs": [
        {
          "output_type": "stream",
          "name": "stdout",
          "text": [
            "[1, 2, 3, 4, 100, 100, 100]\n"
          ]
        }
      ]
    },
    {
      "cell_type": "markdown",
      "source": [
        "### `Integer array indexing (Fancy Indexing)`\n",
        "\n",
        "When you index into a numpy array using slicing, the resulting array view will always be a subarray of the original array. In contrast, integer array indexing allows you to create arbitrary arrays using data from other arrays. Here is an example:"
      ],
      "metadata": {
        "id": "tlNxgPR_ZAwN"
      }
    },
    {
      "cell_type": "code",
      "source": [
        "arr_a = np.array([[1, 2, 3, 4], [5, 6, 7, 8], [9, 10, 11, 12]])\n",
        "print(arr_a)"
      ],
      "metadata": {
        "colab": {
          "base_uri": "https://localhost:8080/"
        },
        "id": "tLUVTIBrZBuh",
        "outputId": "0f2d5bb5-5eef-4e02-8bed-b99bb29bb27d"
      },
      "execution_count": 42,
      "outputs": [
        {
          "output_type": "stream",
          "name": "stdout",
          "text": [
            "[[ 1  2  3  4]\n",
            " [ 5  6  7  8]\n",
            " [ 9 10 11 12]]\n"
          ]
        }
      ]
    },
    {
      "cell_type": "code",
      "source": [
        "# take the whole row and the 1st and 3rd index columns\n",
        "print(arr_a[:, 1::2]) # slicing way"
      ],
      "metadata": {
        "colab": {
          "base_uri": "https://localhost:8080/"
        },
        "id": "rtiMx_JPZLV9",
        "outputId": "beab7f91-12c2-44c1-e8b3-0013889c33e9"
      },
      "execution_count": 43,
      "outputs": [
        {
          "output_type": "stream",
          "name": "stdout",
          "text": [
            "[[ 2  4]\n",
            " [ 6  8]\n",
            " [10 12]]\n"
          ]
        }
      ]
    },
    {
      "cell_type": "code",
      "source": [
        "# retrieve the entire row as well as the 1st and 3rd index columns\n",
        "print(arr_a[:, [1, 3]]) # fancy way of indexing"
      ],
      "metadata": {
        "colab": {
          "base_uri": "https://localhost:8080/"
        },
        "id": "H6h5BnnoZQ9y",
        "outputId": "78ec412c-4ed2-4578-eede-be2070c8643d"
      },
      "execution_count": 44,
      "outputs": [
        {
          "output_type": "stream",
          "name": "stdout",
          "text": [
            "[[ 2  4]\n",
            " [ 6  8]\n",
            " [10 12]]\n"
          ]
        }
      ]
    },
    {
      "cell_type": "code",
      "source": [
        "# take the 1st and 0th row and the 1st to last column index\n",
        "print(arr_a[-2::-1, 1:]) # slicing way"
      ],
      "metadata": {
        "colab": {
          "base_uri": "https://localhost:8080/"
        },
        "id": "naFLRL_2ZaPJ",
        "outputId": "4143c421-0dae-4bb2-9f70-6c92aed8205f"
      },
      "execution_count": 45,
      "outputs": [
        {
          "output_type": "stream",
          "name": "stdout",
          "text": [
            "[[6 7 8]\n",
            " [2 3 4]]\n"
          ]
        }
      ]
    },
    {
      "cell_type": "code",
      "source": [
        "# retrieve 1st and 0th row and 1st to last index column\n",
        "print(arr_a[[1, 0], 1:]) # fancy way of indexing"
      ],
      "metadata": {
        "colab": {
          "base_uri": "https://localhost:8080/"
        },
        "id": "NGt6YNlAZjNS",
        "outputId": "2400455a-2041-44e4-a8ab-8534c11f8ee1"
      },
      "execution_count": 46,
      "outputs": [
        {
          "output_type": "stream",
          "name": "stdout",
          "text": [
            "[[6 7 8]\n",
            " [2 3 4]]\n"
          ]
        }
      ]
    },
    {
      "cell_type": "markdown",
      "source": [
        "One useful trick in integer array indexing is to select or change one element from each row of the matrix:"
      ],
      "metadata": {
        "id": "L9X5FwQdZoxt"
      }
    },
    {
      "cell_type": "code",
      "source": [
        "arr_a"
      ],
      "metadata": {
        "colab": {
          "base_uri": "https://localhost:8080/"
        },
        "id": "XVj3-F4-ZsNZ",
        "outputId": "283230ff-ed9b-402f-f0ae-600bec6d6242"
      },
      "execution_count": 47,
      "outputs": [
        {
          "output_type": "execute_result",
          "data": {
            "text/plain": [
              "array([[ 1,  2,  3,  4],\n",
              "       [ 5,  6,  7,  8],\n",
              "       [ 9, 10, 11, 12]])"
            ]
          },
          "metadata": {},
          "execution_count": 47
        }
      ]
    },
    {
      "cell_type": "code",
      "source": [
        "# change column order with fancy indexing\n",
        "print(arr_a[:, [1,3,2,0]])"
      ],
      "metadata": {
        "colab": {
          "base_uri": "https://localhost:8080/"
        },
        "id": "FS1ErNC4Zx0i",
        "outputId": "b1a7c993-5b3c-4430-ca6f-acbbb33e7bea"
      },
      "execution_count": 49,
      "outputs": [
        {
          "output_type": "stream",
          "name": "stdout",
          "text": [
            "[[ 2  4  3  1]\n",
            " [ 6  8  7  5]\n",
            " [10 12 11  9]]\n"
          ]
        }
      ]
    },
    {
      "cell_type": "code",
      "source": [
        "# Be careful, when indexing at once on rows and columns\n",
        "# This means we index the 0th row and the 1st column\n",
        "# and 2nd row and 3rd column\n",
        "print('arr_a[[0, 2], [1, 3]]:', arr_a[[0, 2], [1, 3]])\n",
        "print('arr_a[0, 1]:', arr_a[0,1])\n",
        "print('arr_a[2, 3]:', arr_a[2,3])"
      ],
      "metadata": {
        "colab": {
          "base_uri": "https://localhost:8080/"
        },
        "id": "ICEwAn4aaAKa",
        "outputId": "c66ac20f-39e7-4dc4-eef4-428c9bd39c67"
      },
      "execution_count": 50,
      "outputs": [
        {
          "output_type": "stream",
          "name": "stdout",
          "text": [
            "arr_a[[0, 2], [1, 3]]: [ 2 12]\n",
            "arr_a[0, 1]: 2\n",
            "arr_a[2, 3]: 12\n"
          ]
        }
      ]
    },
    {
      "cell_type": "markdown",
      "source": [
        "### `Boolean array indexing (Conditional Indexing)`\n",
        "\n",
        "Boolean array indexing allows you to select arbitrary array elements. Often this type of indexing is used to select array elements that satisfy some condition. Here is an example:"
      ],
      "metadata": {
        "id": "Vhk87ta7aKpg"
      }
    },
    {
      "cell_type": "code",
      "source": [
        "arr_a = np.arange(1,10)\n",
        "print(arr_a)"
      ],
      "metadata": {
        "colab": {
          "base_uri": "https://localhost:8080/"
        },
        "id": "GTomlDW7aQkv",
        "outputId": "ede16d95-0205-4120-c318-8a34520e0e78"
      },
      "execution_count": 51,
      "outputs": [
        {
          "output_type": "stream",
          "name": "stdout",
          "text": [
            "[1 2 3 4 5 6 7 8 9]\n"
          ]
        }
      ]
    },
    {
      "cell_type": "code",
      "source": [
        "bool_a = arr_a <= 5 # generate an array of booleans\n",
        "print(bool_a)"
      ],
      "metadata": {
        "colab": {
          "base_uri": "https://localhost:8080/"
        },
        "id": "v9oLYpwBaVAx",
        "outputId": "41518b7f-3f02-4832-8126-915badd366e8"
      },
      "execution_count": 52,
      "outputs": [
        {
          "output_type": "stream",
          "name": "stdout",
          "text": [
            "[ True  True  True  True  True False False False False]\n"
          ]
        }
      ]
    },
    {
      "cell_type": "code",
      "source": [
        "print(arr_a[bool_a]) # print the array whose values satisfy the condition <= 5\n",
        "\n",
        "print(arr_a[arr_a<=5]) # array[condition] -> will filter only the arrays that value True"
      ],
      "metadata": {
        "colab": {
          "base_uri": "https://localhost:8080/"
        },
        "id": "tKFBOUcqaZjw",
        "outputId": "1cd42433-7fc0-4645-9c0b-512a316b4210"
      },
      "execution_count": 53,
      "outputs": [
        {
          "output_type": "stream",
          "name": "stdout",
          "text": [
            "[1 2 3 4 5]\n",
            "[1 2 3 4 5]\n"
          ]
        }
      ]
    },
    {
      "cell_type": "code",
      "source": [
        "# Condition\n",
        "arr_a % 2 != 0\n",
        "\n",
        "# conditional indexing\n",
        "print(arr_a[arr_a % 2 != 0])"
      ],
      "metadata": {
        "colab": {
          "base_uri": "https://localhost:8080/"
        },
        "id": "QiWdimeZaeTT",
        "outputId": "af709ff7-23cd-4fb8-9dd8-9a79c2f3945f"
      },
      "execution_count": 54,
      "outputs": [
        {
          "output_type": "stream",
          "name": "stdout",
          "text": [
            "[1 3 5 7 9]\n"
          ]
        }
      ]
    },
    {
      "cell_type": "code",
      "source": [
        "# condition 1\n",
        "print(arr_a % 2 == 0)\n",
        "\n",
        "# condition 2\n",
        "print(arr_a % 3 == 0)\n",
        "\n",
        "# how to write\n",
        "# array[(condition_1) operator (condition_2)]\n",
        "# AND: use &\n",
        "# OR: use |\n",
        "\n",
        "print(arr_a[(arr_a % 2 == 0) | (arr_a % 3 == 0)])\n",
        "print(arr_a[(arr_a % 2 == 0) & (arr_a % 3 == 0)])"
      ],
      "metadata": {
        "colab": {
          "base_uri": "https://localhost:8080/"
        },
        "id": "5OAv4NOramc5",
        "outputId": "f1854635-5ce0-4604-8a02-115d00211cce"
      },
      "execution_count": 55,
      "outputs": [
        {
          "output_type": "stream",
          "name": "stdout",
          "text": [
            "[False  True False  True False  True False  True False]\n",
            "[False False  True False False  True False False  True]\n",
            "[2 3 4 6 8 9]\n",
            "[6]\n"
          ]
        }
      ]
    },
    {
      "cell_type": "markdown",
      "source": [
        "When working with numpy arrays, getting the *index* (not just the value) of array elements that satisfy certain conditions will often be helpful. There are a few numpy functions that you will definitely want to remember:\n",
        "\n",
        "- [`argmax`](https://numpy.org/doc/stable/reference/generated/numpy.argmax.html) (get the maximum element index in the array)\n",
        "- [`argmin`](https://numpy.org/doc/stable/reference/generated/numpy.argmin.html) (gets the index of the minimum element in the array)\n",
        "- [`argsort`](https://numpy.org/doc/stable/reference/generated/numpy.argsort.html) (sorts a list of indexes, by element value, in ascending order)\n",
        "- [`where`](https://numpy.org/doc/stable/reference/generated/numpy.where.html) (get the index of an element that satisfies a certain condition)"
      ],
      "metadata": {
        "id": "869hYbQQasYY"
      }
    },
    {
      "cell_type": "code",
      "source": [
        "arr_a = np.array([1, 8, 9, -3, 2, 4, 7, 11])\n",
        "print(arr_a)\n",
        "\n",
        "# find the maximum value\n",
        "print('Maximum value:', np.max(arr_a))\n",
        "\n",
        "# find the index of the maximum value\n",
        "print('Index of the maximum value:', np.argmax(arr_a))\n",
        "\n",
        "# find the minimum value\n",
        "print('Minimum value:', np.min(arr_a))\n",
        "\n",
        "# find index of minimum value\n",
        "print('Index of minimum value:', np.argmin(arr_a))"
      ],
      "metadata": {
        "colab": {
          "base_uri": "https://localhost:8080/"
        },
        "id": "KR7e0uhSauCW",
        "outputId": "007138ff-9bcf-4616-b783-c1715d54641e"
      },
      "execution_count": 56,
      "outputs": [
        {
          "output_type": "stream",
          "name": "stdout",
          "text": [
            "[ 1  8  9 -3  2  4  7 11]\n",
            "Maximum value: 11\n",
            "Index of the maximum value: 7\n",
            "Minimum value: -3\n",
            "Index of minimum value: 3\n"
          ]
        }
      ]
    },
    {
      "cell_type": "code",
      "source": [
        "arr_a = np.array([1, 8, 9, -3, 2, 4, 7, 11])\n",
        "print(arr_a)\n",
        "\n",
        "# sort the values from smallest to largest\n",
        "print(np.sort(arr_a))\n",
        "\n",
        "# sort the index by its value from smallest to largest\n",
        "print(np.argsort(arr_a))"
      ],
      "metadata": {
        "colab": {
          "base_uri": "https://localhost:8080/"
        },
        "id": "d1wEzZona7jO",
        "outputId": "a7bb48d8-4f99-45bf-8f4c-a763711aa83d"
      },
      "execution_count": 57,
      "outputs": [
        {
          "output_type": "stream",
          "name": "stdout",
          "text": [
            "[ 1  8  9 -3  2  4  7 11]\n",
            "[-3  1  2  4  7  8  9 11]\n",
            "[3 0 4 5 6 1 2 7]\n"
          ]
        }
      ]
    },
    {
      "cell_type": "code",
      "source": [
        "arr_a = np.array([1, 8, 9, -3, 2, 4, 7, 11])\n",
        "print(arr_a)\n",
        "\n",
        "# np.where(condition) - displays the index that satisfies the condition\n",
        "print('Index of the array whose value is <5:', np.where(arr_a<5))\n",
        "\n",
        "# np.where(condition, result when True, result when False)\n",
        "print(np.where(arr_a<5, 'Small', 'Large'))"
      ],
      "metadata": {
        "colab": {
          "base_uri": "https://localhost:8080/"
        },
        "id": "wERMVvAQbAus",
        "outputId": "1a353ea3-d589-4046-b35a-79c777d0677e"
      },
      "execution_count": 58,
      "outputs": [
        {
          "output_type": "stream",
          "name": "stdout",
          "text": [
            "[ 1  8  9 -3  2  4  7 11]\n",
            "Index of the array whose value is <5: (array([0, 3, 4, 5]),)\n",
            "['Small' 'Large' 'Large' 'Small' 'Small' 'Small' 'Large' 'Large']\n"
          ]
        }
      ]
    },
    {
      "cell_type": "markdown",
      "source": [
        "For simplicity, we ignored a lot of details about numpy array indexing; if you want to know more you should read the documentation."
      ],
      "metadata": {
        "id": "54hkeUPfbIrV"
      }
    },
    {
      "cell_type": "markdown",
      "source": [
        "## **4. Array math**"
      ],
      "metadata": {
        "id": "5BE9CgkLbURX"
      }
    },
    {
      "cell_type": "markdown",
      "source": [
        "What makes working with `numpy` so powerful and convenient is that it comes with many *vectorized* math functions for array element computation. These functions are highly optimized and *very* fast - much faster than using explicit `for` loops.\n",
        "\n",
        "For example, let's generate a large number of random values and then sum them together. We'll use `%%time` *cell magic* to time them."
      ],
      "metadata": {
        "id": "lj7E_KVhbYTS"
      }
    },
    {
      "cell_type": "code",
      "source": [
        "%%time\n",
        "list_number = range(10000000)\n",
        "list_end = [i*5 for i in list_number]"
      ],
      "metadata": {
        "colab": {
          "base_uri": "https://localhost:8080/"
        },
        "id": "20f4WWrFbGFV",
        "outputId": "104aeba2-d03c-4352-d2b8-53c438427ab6"
      },
      "execution_count": 59,
      "outputs": [
        {
          "output_type": "stream",
          "name": "stdout",
          "text": [
            "CPU times: user 590 ms, sys: 345 ms, total: 935 ms\n",
            "Wall time: 947 ms\n"
          ]
        }
      ]
    },
    {
      "cell_type": "code",
      "source": [
        "%%time\n",
        "arr_a = np.arange(10000000)\n",
        "arr_b = arr_a * 5"
      ],
      "metadata": {
        "colab": {
          "base_uri": "https://localhost:8080/"
        },
        "id": "Eq1GLou7bhAX",
        "outputId": "fe2402b7-8447-45c2-f645-25070a8bed23"
      },
      "execution_count": 60,
      "outputs": [
        {
          "output_type": "stream",
          "name": "stdout",
          "text": [
            "CPU times: user 31.4 ms, sys: 82.9 ms, total: 114 ms\n",
            "Wall time: 153 ms\n"
          ]
        }
      ]
    },
    {
      "cell_type": "markdown",
      "source": [
        "Look at the “Wall Time” in the output - notice how fast the vectorized version of the operation is! This type of fast computation is a key driver of machine learning, which requires a *lot* of computation.\n",
        "\n",
        "Where possible, we will try to use these vectorized operations."
      ],
      "metadata": {
        "id": "oj19g7vFbtdl"
      }
    },
    {
      "cell_type": "markdown",
      "source": [
        "Beberapa fungsi matematika tersedia sebagai kelebihan operator dan sebagai fungsi dalam modul numpy.\n",
        "\n",
        "Misalnya, Anda dapat melakukan penjumlahan berdasarkan elemen pada dua array menggunakan operator + atau fungsi `add()`.\n",
        "\n",
        "![](http://jalammar.github.io/images/numpy/numpy-arrays-adding-1.png)\n",
        "\n",
        "![](http://jalammar.github.io/images/numpy/numpy-matrix-arithmetic.png)"
      ],
      "metadata": {
        "id": "cCwWg1jHbvNr"
      }
    },
    {
      "cell_type": "code",
      "source": [
        "# Addition (element wise)\n",
        "x = np.array([[1, 2], [3, 4]])\n",
        "y = np.array([[5, 6], [7, 8]])\n",
        "print(x + y)\n",
        "print(np.add(x, y))"
      ],
      "metadata": {
        "colab": {
          "base_uri": "https://localhost:8080/"
        },
        "id": "JyQPGPujb00S",
        "outputId": "bf87c885-bef6-4f7c-bbf1-f7933b497aa1"
      },
      "execution_count": 61,
      "outputs": [
        {
          "output_type": "stream",
          "name": "stdout",
          "text": [
            "[[ 6  8]\n",
            " [10 12]]\n",
            "[[ 6  8]\n",
            " [10 12]]\n"
          ]
        }
      ]
    },
    {
      "cell_type": "markdown",
      "source": [
        "And it also works for other operations, not just addition:\n",
        "\n",
        "![](http://jalammar.github.io/images/numpy/numpy-array-subtract-multiply-divide.png)"
      ],
      "metadata": {
        "id": "J2el5ITGcF2d"
      }
    },
    {
      "cell_type": "code",
      "source": [
        "# Substraction (element wise)\n",
        "x = np.array([[1, 2], [3, 4]])\n",
        "y = np.array([[5, 6], [7, 8]])\n",
        "print(x - y)\n",
        "print(np.subtract(x, y))"
      ],
      "metadata": {
        "colab": {
          "base_uri": "https://localhost:8080/"
        },
        "id": "CEg6NH-WcIKU",
        "outputId": "acb9d90d-9049-43e2-b0b0-22d25cb21576"
      },
      "execution_count": 62,
      "outputs": [
        {
          "output_type": "stream",
          "name": "stdout",
          "text": [
            "[[-4 -4]\n",
            " [-4 -4]]\n",
            "[[-4 -4]\n",
            " [-4 -4]]\n"
          ]
        }
      ]
    },
    {
      "cell_type": "code",
      "source": [
        "# Division (element wise)\n",
        "x = np.array([[1, 2], [3, 4]])\n",
        "y = np.array([[5, 6], [7, 8]])\n",
        "print(x/y)\n",
        "print(np.divide(x, y))"
      ],
      "metadata": {
        "colab": {
          "base_uri": "https://localhost:8080/"
        },
        "id": "7aMYFoF9cPzD",
        "outputId": "86b202b1-abd4-4ad3-d1dc-999d637703e6"
      },
      "execution_count": 63,
      "outputs": [
        {
          "output_type": "stream",
          "name": "stdout",
          "text": [
            "[[0.2        0.33333333]\n",
            " [0.42857143 0.5       ]]\n",
            "[[0.2        0.33333333]\n",
            " [0.42857143 0.5       ]]\n"
          ]
        }
      ]
    },
    {
      "cell_type": "code",
      "source": [
        "# Multipication (element wise)\n",
        "x = np.array([[1, 2], [3, 4]])\n",
        "y = np.array([[5, 6], [7, 8]])\n",
        "print(x * y)\n",
        "print(np.multiply(x, y))"
      ],
      "metadata": {
        "id": "P2G54VZLcWFY"
      },
      "execution_count": null,
      "outputs": []
    },
    {
      "cell_type": "markdown",
      "source": [
        "Note that unlike in MATLAB, `*` is element multiplication, not matrix multiplication. Instead, we use the `dot()` function to calculate the product in vectors, multiply vectors by matrices, and multiply matrices. `dot()` is available as a function in the numpy module and as an array object instance method:\n",
        "\n",
        "![](http://jalammar.github.io/images/numpy/numpy-matrix-dot-product-1.png)"
      ],
      "metadata": {
        "id": "rLSR7yGFcflW"
      }
    },
    {
      "cell_type": "code",
      "source": [
        "arr_a = np.array([1,2,3])\n",
        "arr_b = np.array([[1, 10], [100,1000], [10000, 100000]])\n",
        "print(np.dot(arr_a, arr_b))"
      ],
      "metadata": {
        "colab": {
          "base_uri": "https://localhost:8080/"
        },
        "id": "cYVY0LnVcj-S",
        "outputId": "d034a861-38b1-42ff-8d81-3d38db5266f1"
      },
      "execution_count": 64,
      "outputs": [
        {
          "output_type": "stream",
          "name": "stdout",
          "text": [
            "[ 30201 302010]\n"
          ]
        }
      ]
    },
    {
      "cell_type": "markdown",
      "source": [
        "You can also use the `@` operator which is equivalent to the numpy `dot` operator."
      ],
      "metadata": {
        "id": "UCvcvucgcny_"
      }
    },
    {
      "cell_type": "code",
      "source": [
        "print(arr_a @ arr_b)"
      ],
      "metadata": {
        "colab": {
          "base_uri": "https://localhost:8080/"
        },
        "id": "dCRflHbXct0M",
        "outputId": "262114fb-c8d8-406c-cab9-8fbc0e67bbbf"
      },
      "execution_count": 65,
      "outputs": [
        {
          "output_type": "stream",
          "name": "stdout",
          "text": [
            "[ 30201 302010]\n"
          ]
        }
      ]
    },
    {
      "cell_type": "markdown",
      "source": [
        "Besides the operator functions, Numpy also provides many useful functions to perform computations on arrays, such as `min()`, `max()`, `sum()`, and others:\n",
        "\n",
        "![](http://jalammar.github.io/images/numpy/numpy-matrix-aggregation-1.png)"
      ],
      "metadata": {
        "id": "qIvkKrv6czlG"
      }
    },
    {
      "cell_type": "code",
      "source": [
        "arr_a = np.array([[1,2], [3,4], [5,6]])\n",
        "print(arr_a)\n",
        "\n",
        "print('Maximum value:', np.max(arr_a))\n",
        "print('Minimum value:', np.min(arr_a))\n",
        "print('Sum:', np.sum(arr_a))\n",
        "print('Average:', np.mean(arr_a))"
      ],
      "metadata": {
        "colab": {
          "base_uri": "https://localhost:8080/"
        },
        "id": "3XCYhn0jc4eW",
        "outputId": "fb44f9d7-abb2-41b5-c442-ef86aa30bd0c"
      },
      "execution_count": 66,
      "outputs": [
        {
          "output_type": "stream",
          "name": "stdout",
          "text": [
            "[[1 2]\n",
            " [3 4]\n",
            " [5 6]]\n",
            "Maximum value: 6\n",
            "Minimum value: 1\n",
            "Sum: 21\n",
            "Average: 3.5\n"
          ]
        }
      ]
    },
    {
      "cell_type": "markdown",
      "source": [
        "Not only can we aggregate all the values in a matrix using the function, but we can also aggregate entire rows or columns by using the `axis` parameter:\n",
        "\n",
        "![](http://jalammar.github.io/images/numpy/numpy-matrix-aggregation-4.png)"
      ],
      "metadata": {
        "id": "YRpbMxQUc-XO"
      }
    },
    {
      "cell_type": "code",
      "source": [
        "arr_a = np.array([[1,2], [5,3], [4,6]])\n",
        "print(arr_a)\n",
        "\n",
        "print('Maximum value in each column:', np.max(arr_a, axis=0))\n",
        "print('Maximum value in each row:', np.max(arr_a, axis=1))\n",
        "\n",
        "print('Sum over each column:', np.sum(arr_a, axis=0))\n",
        "print('Sum over each row:', np.sum(arr_a, axis=1))"
      ],
      "metadata": {
        "colab": {
          "base_uri": "https://localhost:8080/"
        },
        "id": "iQgVT6fzdCYT",
        "outputId": "9e3332bc-048c-4f70-9ce0-b43f01c91427"
      },
      "execution_count": 67,
      "outputs": [
        {
          "output_type": "stream",
          "name": "stdout",
          "text": [
            "[[1 2]\n",
            " [5 3]\n",
            " [4 6]]\n",
            "Maximum value in each column: [5 6]\n",
            "Maximum value in each row: [2 5 6]\n",
            "Sum over each column: [10 11]\n",
            "Sum over each row: [ 3  8 10]\n"
          ]
        }
      ]
    },
    {
      "cell_type": "markdown",
      "source": [
        "You can find the full list of math functions provided by numpy in [documentation](http://docs.scipy.org/doc/numpy/reference/routines.math.html)."
      ],
      "metadata": {
        "id": "oQhraMo7dHmg"
      }
    },
    {
      "cell_type": "markdown",
      "source": [
        "## **5. Reshaping**\n",
        "\n",
        "Selain menghitung fungsi matematika menggunakan array, kita sering kali perlu membentuk ulang atau memanipulasi data dalam array. Contoh paling sederhana dari jenis operasi ini adalah mentransposisi matriks; untuk mengubah urutan matriks, cukup gunakan atribut T dari objek array.\n",
        "\n",
        "![](http://jalammar.github.io/images/numpy/numpy-transpose.png)"
      ],
      "metadata": {
        "id": "fRnSG8xmdIvu"
      }
    },
    {
      "cell_type": "code",
      "source": [
        "# Transpose\n",
        "\n",
        "arr_a = np.array([[1,2], [3,4], [5,6]])\n",
        "print(arr_a)\n",
        "print(arr_a.T)\n",
        "print(np.transpose(arr_a))"
      ],
      "metadata": {
        "colab": {
          "base_uri": "https://localhost:8080/"
        },
        "id": "WY_SyO1udNJc",
        "outputId": "8e41bb96-11d0-46bd-d022-07c162cb3cc9"
      },
      "execution_count": 68,
      "outputs": [
        {
          "output_type": "stream",
          "name": "stdout",
          "text": [
            "[[1 2]\n",
            " [3 4]\n",
            " [5 6]]\n",
            "[[1 3 5]\n",
            " [2 4 6]]\n",
            "[[1 3 5]\n",
            " [2 4 6]]\n"
          ]
        }
      ]
    },
    {
      "cell_type": "markdown",
      "source": [
        "In further use cases, you may need to change the dimensions of certain matrices. This is often the case in machine learning applications where certain models expect a certain shape for different inputs from your data set. Numpy's `reshape()` method is useful in this case.\n",
        "\n",
        "![](http://jalammar.github.io/images/numpy/numpy-reshape.png)"
      ],
      "metadata": {
        "id": "fzjOxn0idXt8"
      }
    },
    {
      "cell_type": "markdown",
      "source": [
        "Tugas umum di kelas ini adalah mengubah array 1D menjadi array 2D, dan sebaliknya. Kita dapat menggunakan `reshape()` untuk ini.\n",
        "Misalnya, kita mempunyai array 2D ini, namun kita perlu memasukkannya ke fungsi yang mengharapkan array 1D."
      ],
      "metadata": {
        "id": "NfcLVXE3dbPJ"
      }
    },
    {
      "cell_type": "code",
      "source": [
        "arr_a = np.linspace(100,600,6)\n",
        "print(arr_a)\n",
        "print(arr_a.shape)"
      ],
      "metadata": {
        "colab": {
          "base_uri": "https://localhost:8080/"
        },
        "id": "zKQMgygIdfnP",
        "outputId": "8a59a5c9-4a7e-401f-bb00-d6f3215a5f7c"
      },
      "execution_count": 69,
      "outputs": [
        {
          "output_type": "stream",
          "name": "stdout",
          "text": [
            "[100. 200. 300. 400. 500. 600.]\n",
            "(6,)\n"
          ]
        }
      ]
    },
    {
      "cell_type": "code",
      "source": [
        "arr_b = arr_a.reshape(3,2)\n",
        "print(arr_b)\n",
        "print(arr_b.shape)"
      ],
      "metadata": {
        "colab": {
          "base_uri": "https://localhost:8080/"
        },
        "id": "3dVbEAKOdjGh",
        "outputId": "02cc8406-e0e4-46bb-8bdd-2685f5542890"
      },
      "execution_count": 70,
      "outputs": [
        {
          "output_type": "stream",
          "name": "stdout",
          "text": [
            "[[100. 200.]\n",
            " [300. 400.]\n",
            " [500. 600.]]\n",
            "(3, 2)\n"
          ]
        }
      ]
    },
    {
      "cell_type": "code",
      "source": [
        "arr_c = arr_b.reshape(2,3)\n",
        "print(arr_c)\n",
        "print(arr_c.shape)"
      ],
      "metadata": {
        "colab": {
          "base_uri": "https://localhost:8080/"
        },
        "id": "B2ulRk9ddk_3",
        "outputId": "535522b7-bcdc-44ea-ee05-1d4b56cee277"
      },
      "execution_count": 71,
      "outputs": [
        {
          "output_type": "stream",
          "name": "stdout",
          "text": [
            "[[100. 200. 300.]\n",
            " [400. 500. 600.]]\n",
            "(2, 3)\n"
          ]
        }
      ]
    },
    {
      "cell_type": "code",
      "source": [
        "arr_d = arr_b.reshape(6,1)\n",
        "print(arr_d)\n",
        "print(arr_d.shape)\n",
        "print(arr_d.ndim)"
      ],
      "metadata": {
        "colab": {
          "base_uri": "https://localhost:8080/"
        },
        "id": "743FX3S4dniA",
        "outputId": "0582b555-c5c1-4f46-80bb-1ae768a75a72"
      },
      "execution_count": 72,
      "outputs": [
        {
          "output_type": "stream",
          "name": "stdout",
          "text": [
            "[[100.]\n",
            " [200.]\n",
            " [300.]\n",
            " [400.]\n",
            " [500.]\n",
            " [600.]]\n",
            "(6, 1)\n",
            "2\n"
          ]
        }
      ]
    },
    {
      "cell_type": "code",
      "source": [
        "arr_d = arr_b.reshape(1,6)\n",
        "print(arr_d)\n",
        "print(arr_d.shape)\n",
        "print(arr_d.ndim)"
      ],
      "metadata": {
        "colab": {
          "base_uri": "https://localhost:8080/"
        },
        "id": "1yfxHbrLdqG9",
        "outputId": "74ea7e7d-eb4c-4241-e249-65d9e1bbdea4"
      },
      "execution_count": 73,
      "outputs": [
        {
          "output_type": "stream",
          "name": "stdout",
          "text": [
            "[[100. 200. 300. 400. 500. 600.]]\n",
            "(1, 6)\n",
            "2\n"
          ]
        }
      ]
    },
    {
      "cell_type": "code",
      "source": [
        "arr_d = arr_c.reshape(6,)\n",
        "print(arr_d)\n",
        "print(arr_d.shape)\n",
        "print(arr_d.ndim)"
      ],
      "metadata": {
        "colab": {
          "base_uri": "https://localhost:8080/"
        },
        "id": "vke0mjRMdtPE",
        "outputId": "afd06af8-e3df-473e-facf-4b008b660286"
      },
      "execution_count": 74,
      "outputs": [
        {
          "output_type": "stream",
          "name": "stdout",
          "text": [
            "[100. 200. 300. 400. 500. 600.]\n",
            "(6,)\n",
            "1\n"
          ]
        }
      ]
    },
    {
      "cell_type": "markdown",
      "source": [
        "We can eliminate extra “unnecessary” dimensions by"
      ],
      "metadata": {
        "id": "XiaCB7H3dzqn"
      }
    },
    {
      "cell_type": "code",
      "source": [
        "arr_d = arr_c.reshape(-1)\n",
        "print(arr_d)\n",
        "print(arr_d.shape)\n",
        "print(arr_d.ndim)"
      ],
      "metadata": {
        "colab": {
          "base_uri": "https://localhost:8080/"
        },
        "id": "Vbljai9Vd2Jw",
        "outputId": "79b7aa71-113c-4e9f-cb45-f60597dfb7f5"
      },
      "execution_count": 75,
      "outputs": [
        {
          "output_type": "stream",
          "name": "stdout",
          "text": [
            "[100. 200. 300. 400. 500. 600.]\n",
            "(6,)\n",
            "1\n"
          ]
        }
      ]
    },
    {
      "cell_type": "markdown",
      "source": [
        "Note that we can pass -1 as one dimension and numpy will infer the correct size based on our matrix size!\n",
        "\n",
        "There is also a `squeeze()` function that removes *all* “unnecessary” dimensions (dimensions that have size 1) from the array:"
      ],
      "metadata": {
        "id": "EzJBKlAFd5Y9"
      }
    },
    {
      "cell_type": "code",
      "source": [
        "arr_a = np.array([[1], [2], [3]])\n",
        "print(arr_a)\n",
        "\n",
        "arr_b = np.squeeze(arr_a)\n",
        "print(arr_b)\n",
        "print(arr_b.shape)\n",
        "print(arr_b.ndim)"
      ],
      "metadata": {
        "colab": {
          "base_uri": "https://localhost:8080/"
        },
        "id": "chIeK1mad881",
        "outputId": "0bc4b6f5-710a-4633-ab01-b7e81c413eba"
      },
      "execution_count": 76,
      "outputs": [
        {
          "output_type": "stream",
          "name": "stdout",
          "text": [
            "[[1]\n",
            " [2]\n",
            " [3]]\n",
            "[1 2 3]\n",
            "(3,)\n",
            "1\n"
          ]
        }
      ]
    },
    {
      "cell_type": "markdown",
      "source": [
        "To switch from a 1D to a 2D array, we simply add another dimension of size 1:"
      ],
      "metadata": {
        "id": "k9SR2pSXeBRF"
      }
    },
    {
      "cell_type": "code",
      "source": [
        "arr_a = np.array([[1, 2], [3, 4], [5, 6]])\n",
        "print(arr_a)\n",
        "\n",
        "arr_b = arr_a.reshape((-1, 1))\n",
        "print(arr_b)\n",
        "print(arr_b.shape)\n",
        "print(arr_b.ndim)"
      ],
      "metadata": {
        "colab": {
          "base_uri": "https://localhost:8080/"
        },
        "id": "VabKGGsPeEyd",
        "outputId": "e7ba1462-4616-4858-eb98-25cd367b66b5"
      },
      "execution_count": 77,
      "outputs": [
        {
          "output_type": "stream",
          "name": "stdout",
          "text": [
            "[[1 2]\n",
            " [3 4]\n",
            " [5 6]]\n",
            "[[1]\n",
            " [2]\n",
            " [3]\n",
            " [4]\n",
            " [5]\n",
            " [6]]\n",
            "(6, 1)\n",
            "2\n"
          ]
        }
      ]
    },
    {
      "cell_type": "markdown",
      "source": [
        "## **6. Broadcasting**"
      ],
      "metadata": {
        "id": "iTITNWqmeI2b"
      }
    },
    {
      "cell_type": "markdown",
      "source": [
        "Broadcasting is a powerful mechanism that allows numpy to work with arrays of different shapes when performing arithmetic operations.\n",
        "\n",
        "For example: in basic linear algebra, we can only sum (and perform similar element operations) two matrices that have *same* dimensions. In numpy, if we want to sum two matrices that have different dimensions, numpy will implicitly “expand” the dimension of one of the matrices to match the other matrix so that we can perform the operation.\n",
        "\n",
        "So the operation will succeed, instead of returning an error:\n",
        "\n",
        "![](https://sebastianraschka.com/images/blog/2020/numpy-intro/broadcasting-1.png)\n",
        "\n",
        "![](https://sebastianraschka.com/images/blog/2020/numpy-intro/broadcasting-2.png)"
      ],
      "metadata": {
        "id": "PiAYDVEdeK5w"
      }
    },
    {
      "cell_type": "markdown",
      "source": [
        "Broadcasting two arrays simultaneously follows the following rules:\n",
        "\n",
        "**Rule 1**: If two arrays differ in the number of dimensions, the shape of the array with fewer dimensions will be filled with the array on its front (left) side.\n",
        "\n",
        "For example, in the following cell, `a` will implicitly be expanded to the shape (1,3):"
      ],
      "metadata": {
        "id": "DzWyfsiweO8B"
      }
    },
    {
      "cell_type": "code",
      "source": [
        "arr_a = [1, 2, 3] # shape: 1 dimension --> dibroadcast(1,3)\n",
        "arr_b = [[4], [5], [6]] # shape: 2 dimensions (3, 1)\n",
        "print(np.add(arr_a, arr_b)) # shape: 2 dimensions (3, 3)"
      ],
      "metadata": {
        "colab": {
          "base_uri": "https://localhost:8080/"
        },
        "id": "WBPcepmyeVsv",
        "outputId": "1bf5b628-a658-48e9-efba-5c8bcab3ba26"
      },
      "execution_count": 78,
      "outputs": [
        {
          "output_type": "stream",
          "name": "stdout",
          "text": [
            "[[5 6 7]\n",
            " [6 7 8]\n",
            " [7 8 9]]\n"
          ]
        }
      ]
    },
    {
      "cell_type": "markdown",
      "source": [
        "**Rule 2**: If the shapes of the two arrays do not match in any dimension, the array with shape equal to 1 in that dimension will be stretched to match the other shape.\n",
        "\n",
        "For example, in the following cell `a` will be implicitly expanded to the shape (3,2):"
      ],
      "metadata": {
        "id": "ByIQ5HiJefzP"
      }
    },
    {
      "cell_type": "code",
      "source": [
        "arr_a = np.array([[1], [2], [3]]) # shape: 2 dimensions (3, 1)\n",
        "arr_b = np.array([[4,5], [6,7], [8,9]]) # shape: 2 dimensions (3, 2)\n",
        "print(np.add(arr_a, arr_b)) # shape: 2 dimensions (3, 2)"
      ],
      "metadata": {
        "colab": {
          "base_uri": "https://localhost:8080/"
        },
        "id": "dNBkjIxnehK9",
        "outputId": "026d25ec-2ad4-4493-9387-e84b8044e2bf"
      },
      "execution_count": 79,
      "outputs": [
        {
          "output_type": "stream",
          "name": "stdout",
          "text": [
            "[[ 5  6]\n",
            " [ 8  9]\n",
            " [11 12]]\n"
          ]
        }
      ]
    },
    {
      "cell_type": "markdown",
      "source": [
        "**Rule 3**: If in any dimension the sizes are not equal and none of them is equal to 1, an error will appear:"
      ],
      "metadata": {
        "id": "1tgTXoK1epKh"
      }
    },
    {
      "cell_type": "code",
      "source": [
        "arr_a = np.array([[1, 2], [3, 4]]) # shape: 2 dimensions (2,2)\n",
        "arr_b = np.array([[10, 20, 30], [40, 50, 60], [70, 80, 90]]) # shape: 2 dimensions (3,3)\n",
        "print(np.add(arr_a, arr_b))"
      ],
      "metadata": {
        "colab": {
          "base_uri": "https://localhost:8080/",
          "height": 176
        },
        "id": "lhYu0X41etXM",
        "outputId": "662c63b4-f380-42e1-de33-190bd1f4aefa"
      },
      "execution_count": 80,
      "outputs": [
        {
          "output_type": "error",
          "ename": "ValueError",
          "evalue": "operands could not be broadcast together with shapes (2,2) (3,3) ",
          "traceback": [
            "\u001b[0;31m---------------------------------------------------------------------------\u001b[0m",
            "\u001b[0;31mValueError\u001b[0m                                Traceback (most recent call last)",
            "\u001b[0;32m/tmp/ipython-input-80-502247325.py\u001b[0m in \u001b[0;36m<cell line: 0>\u001b[0;34m()\u001b[0m\n\u001b[1;32m      1\u001b[0m \u001b[0marr_a\u001b[0m \u001b[0;34m=\u001b[0m \u001b[0mnp\u001b[0m\u001b[0;34m.\u001b[0m\u001b[0marray\u001b[0m\u001b[0;34m(\u001b[0m\u001b[0;34m[\u001b[0m\u001b[0;34m[\u001b[0m\u001b[0;36m1\u001b[0m\u001b[0;34m,\u001b[0m \u001b[0;36m2\u001b[0m\u001b[0;34m]\u001b[0m\u001b[0;34m,\u001b[0m \u001b[0;34m[\u001b[0m\u001b[0;36m3\u001b[0m\u001b[0;34m,\u001b[0m \u001b[0;36m4\u001b[0m\u001b[0;34m]\u001b[0m\u001b[0;34m]\u001b[0m\u001b[0;34m)\u001b[0m \u001b[0;31m# shape: 2 dimensions (2,2)\u001b[0m\u001b[0;34m\u001b[0m\u001b[0;34m\u001b[0m\u001b[0m\n\u001b[1;32m      2\u001b[0m \u001b[0marr_b\u001b[0m \u001b[0;34m=\u001b[0m \u001b[0mnp\u001b[0m\u001b[0;34m.\u001b[0m\u001b[0marray\u001b[0m\u001b[0;34m(\u001b[0m\u001b[0;34m[\u001b[0m\u001b[0;34m[\u001b[0m\u001b[0;36m10\u001b[0m\u001b[0;34m,\u001b[0m \u001b[0;36m20\u001b[0m\u001b[0;34m,\u001b[0m \u001b[0;36m30\u001b[0m\u001b[0;34m]\u001b[0m\u001b[0;34m,\u001b[0m \u001b[0;34m[\u001b[0m\u001b[0;36m40\u001b[0m\u001b[0;34m,\u001b[0m \u001b[0;36m50\u001b[0m\u001b[0;34m,\u001b[0m \u001b[0;36m60\u001b[0m\u001b[0;34m]\u001b[0m\u001b[0;34m,\u001b[0m \u001b[0;34m[\u001b[0m\u001b[0;36m70\u001b[0m\u001b[0;34m,\u001b[0m \u001b[0;36m80\u001b[0m\u001b[0;34m,\u001b[0m \u001b[0;36m90\u001b[0m\u001b[0;34m]\u001b[0m\u001b[0;34m]\u001b[0m\u001b[0;34m)\u001b[0m \u001b[0;31m# shape: 2 dimensions (3,3)\u001b[0m\u001b[0;34m\u001b[0m\u001b[0;34m\u001b[0m\u001b[0m\n\u001b[0;32m----> 3\u001b[0;31m \u001b[0mprint\u001b[0m\u001b[0;34m(\u001b[0m\u001b[0mnp\u001b[0m\u001b[0;34m.\u001b[0m\u001b[0madd\u001b[0m\u001b[0;34m(\u001b[0m\u001b[0marr_a\u001b[0m\u001b[0;34m,\u001b[0m \u001b[0marr_b\u001b[0m\u001b[0;34m)\u001b[0m\u001b[0;34m)\u001b[0m\u001b[0;34m\u001b[0m\u001b[0;34m\u001b[0m\u001b[0m\n\u001b[0m",
            "\u001b[0;31mValueError\u001b[0m: operands could not be broadcast together with shapes (2,2) (3,3) "
          ]
        }
      ]
    },
    {
      "cell_type": "markdown",
      "source": [
        "For more details, you can read the explanation from [documentation](http://docs.scipy.org/doc/numpy/user/basics.broadcasting.html).\n",
        "\n",
        "Functions that support broadcasting are known as universal functions. You can find a list of all universal functions in [documentation](http://docs.scipy.org/doc/numpy/reference/ufuncs.html#available-ufuncs).\n",
        "\n",
        "Here are some visual examples involving broadcasting.\n",
        "\n",
        "![](http://jalammar.github.io/images/numpy/numpy-array-broadcast.png)\n",
        "\n",
        "Note that these arrays are compatible in each dimension if they have the same size in that dimension, or if one array has size 1 in that dimension.\n",
        "\n",
        "![](http://jalammar.github.io/images/numpy/numpy-matrix-broadcast.png)"
      ],
      "metadata": {
        "id": "R9unm0Aaexwf"
      }
    },
    {
      "cell_type": "markdown",
      "source": [
        "And here are some more practical applications:"
      ],
      "metadata": {
        "id": "hFUWpSx_e1es"
      }
    },
    {
      "cell_type": "code",
      "source": [
        "# This will generate error\n",
        "arr_a = np.array([[1, 2], [3, 4]])                                                                      # shape: 2 dimensions (2,2)\n",
        "arr_b = np.array([[10, 20, 30, 40], [50, 60, 70, 80], [90, 100, 110, 120], [130, 140, 150, 160]])       # shape: 2 dimensions (4,4)\n",
        "print(np.add(arr_a, arr_b))"
      ],
      "metadata": {
        "colab": {
          "base_uri": "https://localhost:8080/",
          "height": 176
        },
        "id": "pwGuUjCXe6t7",
        "outputId": "5628a0ee-dc8d-49d1-c56a-a83e6373156e"
      },
      "execution_count": 81,
      "outputs": [
        {
          "output_type": "error",
          "ename": "ValueError",
          "evalue": "operands could not be broadcast together with shapes (2,2) (4,4) ",
          "traceback": [
            "\u001b[0;31m---------------------------------------------------------------------------\u001b[0m",
            "\u001b[0;31mValueError\u001b[0m                                Traceback (most recent call last)",
            "\u001b[0;32m/tmp/ipython-input-81-899704883.py\u001b[0m in \u001b[0;36m<cell line: 0>\u001b[0;34m()\u001b[0m\n\u001b[1;32m      1\u001b[0m \u001b[0marr_a\u001b[0m \u001b[0;34m=\u001b[0m \u001b[0mnp\u001b[0m\u001b[0;34m.\u001b[0m\u001b[0marray\u001b[0m\u001b[0;34m(\u001b[0m\u001b[0;34m[\u001b[0m\u001b[0;34m[\u001b[0m\u001b[0;36m1\u001b[0m\u001b[0;34m,\u001b[0m \u001b[0;36m2\u001b[0m\u001b[0;34m]\u001b[0m\u001b[0;34m,\u001b[0m \u001b[0;34m[\u001b[0m\u001b[0;36m3\u001b[0m\u001b[0;34m,\u001b[0m \u001b[0;36m4\u001b[0m\u001b[0;34m]\u001b[0m\u001b[0;34m]\u001b[0m\u001b[0;34m)\u001b[0m                                                                      \u001b[0;31m# bentuk: 2 dimensi (2,2)\u001b[0m\u001b[0;34m\u001b[0m\u001b[0;34m\u001b[0m\u001b[0m\n\u001b[1;32m      2\u001b[0m \u001b[0marr_b\u001b[0m \u001b[0;34m=\u001b[0m \u001b[0mnp\u001b[0m\u001b[0;34m.\u001b[0m\u001b[0marray\u001b[0m\u001b[0;34m(\u001b[0m\u001b[0;34m[\u001b[0m\u001b[0;34m[\u001b[0m\u001b[0;36m10\u001b[0m\u001b[0;34m,\u001b[0m \u001b[0;36m20\u001b[0m\u001b[0;34m,\u001b[0m \u001b[0;36m30\u001b[0m\u001b[0;34m,\u001b[0m \u001b[0;36m40\u001b[0m\u001b[0;34m]\u001b[0m\u001b[0;34m,\u001b[0m \u001b[0;34m[\u001b[0m\u001b[0;36m50\u001b[0m\u001b[0;34m,\u001b[0m \u001b[0;36m60\u001b[0m\u001b[0;34m,\u001b[0m \u001b[0;36m70\u001b[0m\u001b[0;34m,\u001b[0m \u001b[0;36m80\u001b[0m\u001b[0;34m]\u001b[0m\u001b[0;34m,\u001b[0m \u001b[0;34m[\u001b[0m\u001b[0;36m90\u001b[0m\u001b[0;34m,\u001b[0m \u001b[0;36m100\u001b[0m\u001b[0;34m,\u001b[0m \u001b[0;36m110\u001b[0m\u001b[0;34m,\u001b[0m \u001b[0;36m120\u001b[0m\u001b[0;34m]\u001b[0m\u001b[0;34m,\u001b[0m \u001b[0;34m[\u001b[0m\u001b[0;36m130\u001b[0m\u001b[0;34m,\u001b[0m \u001b[0;36m140\u001b[0m\u001b[0;34m,\u001b[0m \u001b[0;36m150\u001b[0m\u001b[0;34m,\u001b[0m \u001b[0;36m160\u001b[0m\u001b[0;34m]\u001b[0m\u001b[0;34m]\u001b[0m\u001b[0;34m)\u001b[0m       \u001b[0;31m# bentuk: 2 dimensi (4,4)\u001b[0m\u001b[0;34m\u001b[0m\u001b[0;34m\u001b[0m\u001b[0m\n\u001b[0;32m----> 3\u001b[0;31m \u001b[0mprint\u001b[0m\u001b[0;34m(\u001b[0m\u001b[0mnp\u001b[0m\u001b[0;34m.\u001b[0m\u001b[0madd\u001b[0m\u001b[0;34m(\u001b[0m\u001b[0marr_a\u001b[0m\u001b[0;34m,\u001b[0m \u001b[0marr_b\u001b[0m\u001b[0;34m)\u001b[0m\u001b[0;34m)\u001b[0m\u001b[0;34m\u001b[0m\u001b[0;34m\u001b[0m\u001b[0m\n\u001b[0m",
            "\u001b[0;31mValueError\u001b[0m: operands could not be broadcast together with shapes (2,2) (4,4) "
          ]
        }
      ]
    },
    {
      "cell_type": "code",
      "source": [
        "# This will generate value\n",
        "arr_a = np.array([[1, 2, 3, 4]]) # shape: 2 dimensions (1,4)\n",
        "arr_b = np.array([[10, 20, 30, 40], [50, 60, 70, 80]]) # shape: 2 dimensions (2,4)\n",
        "print(np.multiply(arr_a, arr_b))"
      ],
      "metadata": {
        "colab": {
          "base_uri": "https://localhost:8080/"
        },
        "id": "Lo13FlhWe9vS",
        "outputId": "ce8f161d-06c5-4cce-b557-0395193b5782"
      },
      "execution_count": 82,
      "outputs": [
        {
          "output_type": "stream",
          "name": "stdout",
          "text": [
            "[[ 10  40  90 160]\n",
            " [ 50 120 210 320]]\n"
          ]
        }
      ]
    },
    {
      "cell_type": "markdown",
      "source": [
        "Broadcasting usually makes your code more concise and faster, so you should try to use it whenever possible"
      ],
      "metadata": {
        "id": "RMpg2nGUfE5y"
      }
    },
    {
      "cell_type": "markdown",
      "source": [
        "This brief overview has touched on many of the important things you need to know about numpy, but it is far from complete. Check out [numpy reference](http://docs.scipy.org/doc/numpy/reference/) to find out more about numpy."
      ],
      "metadata": {
        "id": "Lz-qEVPIfI9r"
      }
    }
  ]
}